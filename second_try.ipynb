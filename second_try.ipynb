{
 "cells": [
  {
   "cell_type": "code",
   "execution_count": 1,
   "id": "2eb0ad48",
   "metadata": {},
   "outputs": [],
   "source": [
    "import numpy as np\n",
    "import itertools\n",
    "import matplotlib as mpl\n",
    "import matplotlib.pyplot as plt\n",
    "import seaborn as sns\n",
    "import pandas as pd\n",
    "import time\n",
    "\n",
    "plt.rcParams[\"figure.dpi\"] = 200"
   ]
  },
  {
   "cell_type": "code",
   "execution_count": 2,
   "id": "982c8d3b",
   "metadata": {},
   "outputs": [],
   "source": [
    "TRAIN_SEQUENCE = open(\"train_set.txt\").read().strip().replace(\"\\n\", \"\").replace(\"N\",\"\")\n",
    "TEST_SEQUENCE = open(\"test_set.txt\").read().strip().replace(\"\\n\", \"\").replace(\"N\",\"\")"
   ]
  },
  {
   "cell_type": "code",
   "execution_count": 3,
   "id": "ad2fcb3d",
   "metadata": {},
   "outputs": [
    {
     "name": "stdout",
     "output_type": "stream",
     "text": [
      "181634592\n"
     ]
    },
    {
     "data": {
      "text/plain": [
       "48846420"
      ]
     },
     "execution_count": 3,
     "metadata": {},
     "output_type": "execute_result"
    }
   ],
   "source": [
    "print(len(TRAIN_SEQUENCE))\n",
    "len(TEST_SEQUENCE)"
   ]
  },
  {
   "cell_type": "code",
   "execution_count": 4,
   "id": "7ce07d03",
   "metadata": {},
   "outputs": [],
   "source": [
    "class MarkovChain:\n",
    "    def __init__(self, n_lookback=1, vocab=\"ACGT\"):\n",
    "        assert n_lookback > 0\n",
    "\n",
    "        self.letter_to_idx = {x: i for i, x in enumerate(vocab)}\n",
    "        self.state_to_idx = {\"\".join(p): i for i, p in enumerate(itertools.product(vocab, repeat=n_lookback))} # fmt: skip\n",
    "        self.n_lookback = n_lookback\n",
    "        self.vocab_size = len(vocab)\n",
    "        self.vocab = vocab\n",
    "\n",
    "        m_dim = np.power(self.vocab_size, n_lookback)\n",
    "        n_dim = self.vocab_size\n",
    "\n",
    "        self.transition_matrix = np.zeros((m_dim, n_dim), dtype=np.float32)\n",
    "\n",
    "    def train(self, sequence):\n",
    "        assert len(sequence) >= self.n_lookback\n",
    "        for i in range(self.n_lookback, len(sequence)):\n",
    "            curr_state_idx = self.state_to_idx[sequence[i - self.n_lookback : i]]\n",
    "            next_state_idx = self.letter_to_idx[sequence[i]]\n",
    "            self.transition_matrix[curr_state_idx, next_state_idx] += 1.0\n",
    "\n",
    "        # laplace smoothing, basically to avoid zeros probabilities\n",
    "        self.transition_matrix += 1.0\n",
    "        normalization = np.sum(self.transition_matrix, axis=1, keepdims=True)\n",
    "        self.transition_matrix /= normalization\n",
    "\n",
    "    def test(self, sequence, method):\n",
    "        assert len(sequence) >= self.n_lookback\n",
    "        correct_count = 0\n",
    "\n",
    "        for i in range(self.n_lookback, len(sequence)):\n",
    "            curr_state = sequence[i - self.n_lookback : i]\n",
    "            next_state = sequence[i]\n",
    "            if self.next_state(curr_state, method= method) == next_state: #where we decide if it's random or greedy\n",
    "                correct_count += 1\n",
    "        accuracy = correct_count / (len(sequence) - self.n_lookback)\n",
    "        print(f\"Accuracy: {accuracy:.4f}\")\n",
    "\n",
    "    def next_state(self, current_state, method=\"random\"): #if nothing is passed, it will be random\n",
    "        assert method in [\"random\", \"greedy\"]\n",
    "        assert len(current_state) == self.n_lookback\n",
    "        curr_state_idx = self.state_to_idx[current_state]\n",
    "\n",
    "        if method == \"random\":\n",
    "            next_state = np.random.choice(\n",
    "                self.vocab_size, p=self.transition_matrix[curr_state_idx]\n",
    "            )\n",
    "        elif method == \"greedy\":\n",
    "            next_state = np.argmax(self.transition_matrix[curr_state_idx])\n",
    "\n",
    "        return self.vocab[next_state]"
   ]
  },
  {
   "cell_type": "markdown",
   "id": "1597423a",
   "metadata": {},
   "source": [
    "Actual Running"
   ]
  },
  {
   "cell_type": "code",
   "execution_count": null,
   "id": "45dd3ae0",
   "metadata": {},
   "outputs": [],
   "source": [
    "\n",
    "for n in [1]:\n",
    "    print(f\"Markov Chain with n_lookback={n}\")\n",
    "    model = MarkovChain(n_lookback=n, vocab=\"ACGT\")\n",
    "    model.train(TRAIN_SEQUENCE)\n",
    "    model.test(TEST_SEQUENCE, method = \"greedy\")\n",
    "    model.test(TEST_SEQUENCE, method = \"random\")"
   ]
  },
  {
   "cell_type": "code",
   "execution_count": 6,
   "id": "95eaaf1b",
   "metadata": {},
   "outputs": [
    {
     "name": "stdout",
     "output_type": "stream",
     "text": [
      "Markov Chain with n_lookback=1\n",
      "training time: 326.265140 seconds\n",
      "Accuracy: 0.3227\n",
      "greedy time: 85.048331 seconds\n",
      "Accuracy: 0.2687\n",
      "random time: 1125.965898 seconds\n"
     ]
    }
   ],
   "source": [
    "n = 1\n",
    "print(f\"Markov Chain with n_lookback={n}\")\n",
    "\n",
    "start_time = time.perf_counter()\n",
    "\n",
    "model = MarkovChain(n_lookback=n, vocab=\"ACGT\")\n",
    "model.train(TRAIN_SEQUENCE)\n",
    "\n",
    "end_time = time.perf_counter()\n",
    "print(f\"training time: {end_time-start_time:.6f} seconds\")\n",
    "\n",
    "\n",
    "start_time = time.perf_counter()\n",
    "\n",
    "model.test(TEST_SEQUENCE, method = \"greedy\")\n",
    "\n",
    "end_time = time.perf_counter()\n",
    "print(f\"greedy time: {end_time-start_time:.6f} seconds\")\n",
    "\n",
    "start_time = time.perf_counter()\n",
    "\n",
    "model.test(TEST_SEQUENCE, method = \"random\")\n",
    "\n",
    "end_time = time.perf_counter()\n",
    "print(f\"random time: {end_time-start_time:.6f} seconds\")"
   ]
  },
  {
   "cell_type": "code",
   "execution_count": 7,
   "id": "7ab6108c",
   "metadata": {},
   "outputs": [
    {
     "name": "stdout",
     "output_type": "stream",
     "text": [
      "Markov Chain with n_lookback=2\n",
      "training time: 340.125438 seconds\n",
      "Accuracy: 0.3309\n",
      "greedy time: 90.618003 seconds\n",
      "Accuracy: 0.2728\n",
      "random time: 1201.684862 seconds\n"
     ]
    }
   ],
   "source": [
    "n = 2\n",
    "print(f\"Markov Chain with n_lookback={n}\")\n",
    "\n",
    "start_time = time.perf_counter()\n",
    "\n",
    "model = MarkovChain(n_lookback=n, vocab=\"ACGT\")\n",
    "model.train(TRAIN_SEQUENCE)\n",
    "\n",
    "end_time = time.perf_counter()\n",
    "print(f\"training time: {end_time-start_time:.6f} seconds\")\n",
    "\n",
    "\n",
    "start_time = time.perf_counter()\n",
    "\n",
    "model.test(TEST_SEQUENCE, method = \"greedy\")\n",
    "\n",
    "end_time = time.perf_counter()\n",
    "print(f\"greedy time: {end_time-start_time:.6f} seconds\")\n",
    "\n",
    "start_time = time.perf_counter()\n",
    "\n",
    "model.test(TEST_SEQUENCE, method = \"random\")\n",
    "\n",
    "end_time = time.perf_counter()\n",
    "print(f\"random time: {end_time-start_time:.6f} seconds\")"
   ]
  },
  {
   "cell_type": "code",
   "execution_count": 8,
   "id": "4b33be37",
   "metadata": {},
   "outputs": [
    {
     "name": "stdout",
     "output_type": "stream",
     "text": [
      "Markov Chain with n_lookback=3\n",
      "training time: 387.861351 seconds\n",
      "Accuracy: 0.3365\n",
      "greedy time: 102.470040 seconds\n",
      "Accuracy: 0.2744\n",
      "random time: 1201.236312 seconds\n"
     ]
    }
   ],
   "source": [
    "n = 3\n",
    "print(f\"Markov Chain with n_lookback={n}\")\n",
    "\n",
    "start_time = time.perf_counter()\n",
    "\n",
    "model = MarkovChain(n_lookback=n, vocab=\"ACGT\")\n",
    "model.train(TRAIN_SEQUENCE)\n",
    "\n",
    "end_time = time.perf_counter()\n",
    "print(f\"training time: {end_time-start_time:.6f} seconds\")\n",
    "\n",
    "\n",
    "start_time = time.perf_counter()\n",
    "\n",
    "model.test(TEST_SEQUENCE, method = \"greedy\")\n",
    "\n",
    "end_time = time.perf_counter()\n",
    "print(f\"greedy time: {end_time-start_time:.6f} seconds\")\n",
    "\n",
    "start_time = time.perf_counter()\n",
    "\n",
    "model.test(TEST_SEQUENCE, method = \"random\")\n",
    "\n",
    "end_time = time.perf_counter()\n",
    "print(f\"random time: {end_time-start_time:.6f} seconds\")"
   ]
  },
  {
   "cell_type": "code",
   "execution_count": 9,
   "id": "d15c1dc1",
   "metadata": {},
   "outputs": [
    {
     "name": "stdout",
     "output_type": "stream",
     "text": [
      "Markov Chain with n_lookback=4\n",
      "training time: 372.971147 seconds\n",
      "Accuracy: 0.3460\n",
      "greedy time: 96.647125 seconds\n",
      "Accuracy: 0.2773\n",
      "random time: 1150.895517 seconds\n"
     ]
    }
   ],
   "source": [
    "n = 4\n",
    "print(f\"Markov Chain with n_lookback={n}\")\n",
    "\n",
    "start_time = time.perf_counter()\n",
    "\n",
    "model = MarkovChain(n_lookback=n, vocab=\"ACGT\")\n",
    "model.train(TRAIN_SEQUENCE)\n",
    "\n",
    "end_time = time.perf_counter()\n",
    "print(f\"training time: {end_time-start_time:.6f} seconds\")\n",
    "\n",
    "\n",
    "start_time = time.perf_counter()\n",
    "\n",
    "model.test(TEST_SEQUENCE, method = \"greedy\")\n",
    "\n",
    "end_time = time.perf_counter()\n",
    "print(f\"greedy time: {end_time-start_time:.6f} seconds\")\n",
    "\n",
    "start_time = time.perf_counter()\n",
    "\n",
    "model.test(TEST_SEQUENCE, method = \"random\")\n",
    "\n",
    "end_time = time.perf_counter()\n",
    "print(f\"random time: {end_time-start_time:.6f} seconds\")"
   ]
  },
  {
   "cell_type": "code",
   "execution_count": 10,
   "id": "ff6427e0",
   "metadata": {},
   "outputs": [
    {
     "name": "stdout",
     "output_type": "stream",
     "text": [
      "Markov Chain with n_lookback=5\n",
      "training time: 366.911447 seconds\n",
      "Accuracy: 0.3567\n",
      "greedy time: 92.564059 seconds\n",
      "Accuracy: 0.2815\n",
      "random time: 1228.239511 seconds\n"
     ]
    }
   ],
   "source": [
    "n = 5\n",
    "print(f\"Markov Chain with n_lookback={n}\")\n",
    "\n",
    "start_time = time.perf_counter()\n",
    "\n",
    "model = MarkovChain(n_lookback=n, vocab=\"ACGT\")\n",
    "model.train(TRAIN_SEQUENCE)\n",
    "\n",
    "end_time = time.perf_counter()\n",
    "print(f\"training time: {end_time-start_time:.6f} seconds\")\n",
    "\n",
    "\n",
    "start_time = time.perf_counter()\n",
    "\n",
    "model.test(TEST_SEQUENCE, method = \"greedy\")\n",
    "\n",
    "end_time = time.perf_counter()\n",
    "print(f\"greedy time: {end_time-start_time:.6f} seconds\")\n",
    "\n",
    "start_time = time.perf_counter()\n",
    "\n",
    "model.test(TEST_SEQUENCE, method = \"random\")\n",
    "\n",
    "end_time = time.perf_counter()\n",
    "print(f\"random time: {end_time-start_time:.6f} seconds\")"
   ]
  },
  {
   "cell_type": "code",
   "execution_count": 11,
   "id": "3a358e50",
   "metadata": {},
   "outputs": [
    {
     "name": "stdout",
     "output_type": "stream",
     "text": [
      "Markov Chain with n_lookback=6\n",
      "training time: 360.438810 seconds\n",
      "Accuracy: 0.3711\n",
      "greedy time: 100.838103 seconds\n",
      "Accuracy: 0.2896\n",
      "random time: 1167.986255 seconds\n"
     ]
    }
   ],
   "source": [
    "n = 6\n",
    "print(f\"Markov Chain with n_lookback={n}\")\n",
    "\n",
    "start_time = time.perf_counter()\n",
    "\n",
    "model = MarkovChain(n_lookback=n, vocab=\"ACGT\")\n",
    "model.train(TRAIN_SEQUENCE)\n",
    "\n",
    "end_time = time.perf_counter()\n",
    "print(f\"training time: {end_time-start_time:.6f} seconds\")\n",
    "\n",
    "\n",
    "start_time = time.perf_counter()\n",
    "\n",
    "model.test(TEST_SEQUENCE, method = \"greedy\")\n",
    "\n",
    "end_time = time.perf_counter()\n",
    "print(f\"greedy time: {end_time-start_time:.6f} seconds\")\n",
    "\n",
    "start_time = time.perf_counter()\n",
    "\n",
    "model.test(TEST_SEQUENCE, method = \"random\")\n",
    "\n",
    "end_time = time.perf_counter()\n",
    "print(f\"random time: {end_time-start_time:.6f} seconds\")"
   ]
  },
  {
   "cell_type": "code",
   "execution_count": 12,
   "id": "7cfebbad",
   "metadata": {},
   "outputs": [
    {
     "name": "stdout",
     "output_type": "stream",
     "text": [
      "Markov Chain with n_lookback=7\n",
      "training time: 383.395805 seconds\n",
      "Accuracy: 0.3822\n",
      "greedy time: 97.841454 seconds\n",
      "Accuracy: 0.2998\n",
      "random time: 1131.172991 seconds\n"
     ]
    }
   ],
   "source": [
    "n = 7\n",
    "print(f\"Markov Chain with n_lookback={n}\")\n",
    "\n",
    "start_time = time.perf_counter()\n",
    "\n",
    "model = MarkovChain(n_lookback=n, vocab=\"ACGT\")\n",
    "model.train(TRAIN_SEQUENCE)\n",
    "\n",
    "end_time = time.perf_counter()\n",
    "print(f\"training time: {end_time-start_time:.6f} seconds\")\n",
    "\n",
    "\n",
    "start_time = time.perf_counter()\n",
    "\n",
    "model.test(TEST_SEQUENCE, method = \"greedy\")\n",
    "\n",
    "end_time = time.perf_counter()\n",
    "print(f\"greedy time: {end_time-start_time:.6f} seconds\")\n",
    "\n",
    "start_time = time.perf_counter()\n",
    "\n",
    "model.test(TEST_SEQUENCE, method = \"random\")\n",
    "\n",
    "end_time = time.perf_counter()\n",
    "print(f\"random time: {end_time-start_time:.6f} seconds\")"
   ]
  },
  {
   "cell_type": "code",
   "execution_count": 5,
   "id": "10eef0e2",
   "metadata": {},
   "outputs": [
    {
     "name": "stdout",
     "output_type": "stream",
     "text": [
      "Markov Chain with n_lookback=8\n",
      "training time: 401.497911 seconds\n",
      "Accuracy: 0.3937\n",
      "greedy time: 103.818538 seconds\n",
      "Accuracy: 0.3118\n",
      "random time: 1080.327514 seconds\n"
     ]
    }
   ],
   "source": [
    "n = 8\n",
    "print(f\"Markov Chain with n_lookback={n}\")\n",
    "\n",
    "start_time = time.perf_counter()\n",
    "\n",
    "model = MarkovChain(n_lookback=n, vocab=\"ACGT\")\n",
    "model.train(TRAIN_SEQUENCE)\n",
    "\n",
    "end_time = time.perf_counter()\n",
    "print(f\"training time: {end_time-start_time:.6f} seconds\")\n",
    "\n",
    "\n",
    "start_time = time.perf_counter()\n",
    "\n",
    "model.test(TEST_SEQUENCE, method = \"greedy\")\n",
    "\n",
    "end_time = time.perf_counter()\n",
    "print(f\"greedy time: {end_time-start_time:.6f} seconds\")\n",
    "\n",
    "start_time = time.perf_counter()\n",
    "\n",
    "model.test(TEST_SEQUENCE, method = \"random\")\n",
    "\n",
    "end_time = time.perf_counter()\n",
    "print(f\"random time: {end_time-start_time:.6f} seconds\")"
   ]
  },
  {
   "cell_type": "code",
   "execution_count": 6,
   "id": "f3336aab",
   "metadata": {},
   "outputs": [
    {
     "name": "stdout",
     "output_type": "stream",
     "text": [
      "Markov Chain with n_lookback=9\n",
      "training time: 376.428118 seconds\n",
      "Accuracy: 0.4060\n",
      "greedy time: 106.809791 seconds\n",
      "Accuracy: 0.3234\n",
      "random time: 1137.700348 seconds\n"
     ]
    }
   ],
   "source": [
    "n = 9\n",
    "print(f\"Markov Chain with n_lookback={n}\")\n",
    "\n",
    "start_time = time.perf_counter()\n",
    "\n",
    "model = MarkovChain(n_lookback=n, vocab=\"ACGT\")\n",
    "model.train(TRAIN_SEQUENCE)\n",
    "\n",
    "end_time = time.perf_counter()\n",
    "print(f\"training time: {end_time-start_time:.6f} seconds\")\n",
    "\n",
    "\n",
    "start_time = time.perf_counter()\n",
    "\n",
    "model.test(TEST_SEQUENCE, method = \"greedy\")\n",
    "\n",
    "end_time = time.perf_counter()\n",
    "print(f\"greedy time: {end_time-start_time:.6f} seconds\")\n",
    "\n",
    "start_time = time.perf_counter()\n",
    "\n",
    "model.test(TEST_SEQUENCE, method = \"random\")\n",
    "\n",
    "end_time = time.perf_counter()\n",
    "print(f\"random time: {end_time-start_time:.6f} seconds\")"
   ]
  },
  {
   "cell_type": "code",
   "execution_count": 7,
   "id": "529462a9",
   "metadata": {},
   "outputs": [
    {
     "name": "stdout",
     "output_type": "stream",
     "text": [
      "Markov Chain with n_lookback=10\n",
      "training time: 417.244455 seconds\n",
      "Accuracy: 0.4154\n",
      "greedy time: 121.079561 seconds\n",
      "Accuracy: 0.3345\n",
      "random time: 1110.646820 seconds\n"
     ]
    }
   ],
   "source": [
    "n = 10\n",
    "print(f\"Markov Chain with n_lookback={n}\")\n",
    "\n",
    "start_time = time.perf_counter()\n",
    "\n",
    "model = MarkovChain(n_lookback=n, vocab=\"ACGT\")\n",
    "model.train(TRAIN_SEQUENCE)\n",
    "\n",
    "end_time = time.perf_counter()\n",
    "print(f\"training time: {end_time-start_time:.6f} seconds\")\n",
    "\n",
    "\n",
    "start_time = time.perf_counter()\n",
    "\n",
    "model.test(TEST_SEQUENCE, method = \"greedy\")\n",
    "\n",
    "end_time = time.perf_counter()\n",
    "print(f\"greedy time: {end_time-start_time:.6f} seconds\")\n",
    "\n",
    "start_time = time.perf_counter()\n",
    "\n",
    "model.test(TEST_SEQUENCE, method = \"random\")\n",
    "\n",
    "end_time = time.perf_counter()\n",
    "print(f\"random time: {end_time-start_time:.6f} seconds\")"
   ]
  },
  {
   "cell_type": "code",
   "execution_count": 8,
   "id": "1da329bf",
   "metadata": {},
   "outputs": [
    {
     "name": "stdout",
     "output_type": "stream",
     "text": [
      "Markov Chain with n_lookback=11\n",
      "training time: 416.361439 seconds\n",
      "Accuracy: 0.4186\n",
      "greedy time: 120.255649 seconds\n",
      "Accuracy: 0.3439\n",
      "random time: 1183.522887 seconds\n"
     ]
    }
   ],
   "source": [
    "n = 11\n",
    "print(f\"Markov Chain with n_lookback={n}\")\n",
    "\n",
    "start_time = time.perf_counter()\n",
    "\n",
    "model = MarkovChain(n_lookback=n, vocab=\"ACGT\")\n",
    "model.train(TRAIN_SEQUENCE)\n",
    "\n",
    "end_time = time.perf_counter()\n",
    "print(f\"training time: {end_time-start_time:.6f} seconds\")\n",
    "\n",
    "\n",
    "start_time = time.perf_counter()\n",
    "\n",
    "model.test(TEST_SEQUENCE, method = \"greedy\")\n",
    "\n",
    "end_time = time.perf_counter()\n",
    "print(f\"greedy time: {end_time-start_time:.6f} seconds\")\n",
    "\n",
    "start_time = time.perf_counter()\n",
    "\n",
    "model.test(TEST_SEQUENCE, method = \"random\")\n",
    "\n",
    "end_time = time.perf_counter()\n",
    "print(f\"random time: {end_time-start_time:.6f} seconds\")"
   ]
  },
  {
   "cell_type": "code",
   "execution_count": 9,
   "id": "53f6950c",
   "metadata": {},
   "outputs": [
    {
     "name": "stdout",
     "output_type": "stream",
     "text": [
      "Markov Chain with n_lookback=12\n",
      "training time: 450.780593 seconds\n",
      "Accuracy: 0.4152\n",
      "greedy time: 130.246325 seconds\n",
      "Accuracy: 0.3490\n",
      "random time: 1123.140312 seconds\n"
     ]
    }
   ],
   "source": [
    "n = 12\n",
    "print(f\"Markov Chain with n_lookback={n}\")\n",
    "\n",
    "start_time = time.perf_counter()\n",
    "\n",
    "model = MarkovChain(n_lookback=n, vocab=\"ACGT\")\n",
    "model.train(TRAIN_SEQUENCE)\n",
    "\n",
    "end_time = time.perf_counter()\n",
    "print(f\"training time: {end_time-start_time:.6f} seconds\")\n",
    "\n",
    "\n",
    "start_time = time.perf_counter()\n",
    "\n",
    "model.test(TEST_SEQUENCE, method = \"greedy\")\n",
    "\n",
    "end_time = time.perf_counter()\n",
    "print(f\"greedy time: {end_time-start_time:.6f} seconds\")\n",
    "\n",
    "start_time = time.perf_counter()\n",
    "\n",
    "model.test(TEST_SEQUENCE, method = \"random\")\n",
    "\n",
    "end_time = time.perf_counter()\n",
    "print(f\"random time: {end_time-start_time:.6f} seconds\")"
   ]
  },
  {
   "cell_type": "code",
   "execution_count": null,
   "id": "dd6ea499",
   "metadata": {},
   "outputs": [],
   "source": [
    "n = 13\n",
    "print(f\"Markov Chain with n_lookback={n}\")\n",
    "\n",
    "start_time = time.perf_counter()\n",
    "\n",
    "model = MarkovChain(n_lookback=n, vocab=\"ACGT\")\n",
    "model.train(TRAIN_SEQUENCE)\n",
    "\n",
    "end_time = time.perf_counter()\n",
    "print(f\"training time: {end_time-start_time:.6f} seconds\")\n",
    "\n",
    "\n",
    "start_time = time.perf_counter()\n",
    "\n",
    "model.test(TEST_SEQUENCE, method = \"greedy\")\n",
    "\n",
    "end_time = time.perf_counter()\n",
    "print(f\"greedy time: {end_time-start_time:.6f} seconds\")\n",
    "\n",
    "start_time = time.perf_counter()\n",
    "\n",
    "model.test(TEST_SEQUENCE, method = \"random\")\n",
    "\n",
    "end_time = time.perf_counter()\n",
    "print(f\"random time: {end_time-start_time:.6f} seconds\")"
   ]
  },
  {
   "cell_type": "code",
   "execution_count": null,
   "id": "f84f5a7b",
   "metadata": {},
   "outputs": [],
   "source": [
    "n = 14\n",
    "print(f\"Markov Chain with n_lookback={n}\")\n",
    "\n",
    "start_time = time.perf_counter()\n",
    "\n",
    "model = MarkovChain(n_lookback=n, vocab=\"ACGT\")\n",
    "model.train(TRAIN_SEQUENCE)\n",
    "\n",
    "end_time = time.perf_counter()\n",
    "print(f\"training time: {end_time-start_time:.6f} seconds\")\n",
    "\n",
    "\n",
    "start_time = time.perf_counter()\n",
    "\n",
    "model.test(TEST_SEQUENCE, method = \"greedy\")\n",
    "\n",
    "end_time = time.perf_counter()\n",
    "print(f\"greedy time: {end_time-start_time:.6f} seconds\")\n",
    "\n",
    "start_time = time.perf_counter()\n",
    "\n",
    "model.test(TEST_SEQUENCE, method = \"random\")\n",
    "\n",
    "end_time = time.perf_counter()\n",
    "print(f\"random time: {end_time-start_time:.6f} seconds\")"
   ]
  },
  {
   "cell_type": "code",
   "execution_count": null,
   "id": "dfc327d2",
   "metadata": {},
   "outputs": [],
   "source": [
    "n = 15\n",
    "print(f\"Markov Chain with n_lookback={n}\")\n",
    "\n",
    "start_time = time.perf_counter()\n",
    "\n",
    "model = MarkovChain(n_lookback=n, vocab=\"ACGT\")\n",
    "model.train(TRAIN_SEQUENCE)\n",
    "\n",
    "end_time = time.perf_counter()\n",
    "print(f\"training time: {end_time-start_time:.6f} seconds\")\n",
    "\n",
    "\n",
    "start_time = time.perf_counter()\n",
    "\n",
    "model.test(TEST_SEQUENCE, method = \"greedy\")\n",
    "\n",
    "end_time = time.perf_counter()\n",
    "print(f\"greedy time: {end_time-start_time:.6f} seconds\")\n",
    "\n",
    "start_time = time.perf_counter()\n",
    "\n",
    "model.test(TEST_SEQUENCE, method = \"random\")\n",
    "\n",
    "end_time = time.perf_counter()\n",
    "print(f\"random time: {end_time-start_time:.6f} seconds\")"
   ]
  },
  {
   "cell_type": "markdown",
   "id": "278fc099",
   "metadata": {},
   "source": [
    "Extra:"
   ]
  },
  {
   "cell_type": "code",
   "execution_count": null,
   "id": "6ea529d3",
   "metadata": {},
   "outputs": [],
   "source": [
    "def simulate(self, start_state, num_steps=1):\n",
    "        assert self.n_lookback == len(start_state)\n",
    "\n",
    "        states = start_state.copy()\n",
    "        for _ in range(num_steps):\n",
    "            states += self.next_state(states[-self.n_lookback :], method=\"random\")\n",
    "        return states"
   ]
  },
  {
   "cell_type": "markdown",
   "id": "9a8e4a7c",
   "metadata": {},
   "source": [
    "Graphing Stuff"
   ]
  },
  {
   "cell_type": "code",
   "execution_count": null,
   "id": "157c0fad",
   "metadata": {},
   "outputs": [],
   "source": [
    "def plot_heatmap(self):\n",
    "        if self.n_lookback > 4:\n",
    "            print(\"Too big to plot. Please use a smaller n_lookback if you want to see the plot.\") # fmt: skip\n",
    "            return\n",
    "        sns.set_theme(context=\"paper\")\n",
    "        transition_matrix = self.transition_matrix\n",
    "        vocab = list(self.vocab)\n",
    "        states = list(self.state_to_idx.keys())\n",
    "\n",
    "        df = pd.DataFrame(transition_matrix, index=states, columns=vocab)\n",
    "        fig, ax = plt.subplots(figsize=(8, 0.5 * len(states)))\n",
    "        sns.heatmap(df, cbar=True, cbar_kws={\"orientation\": \"horizontal\",}, ax=ax, vmin=0, vmax=1) # fmt: skip\n",
    "\n",
    "        ax.xaxis.tick_top()\n",
    "        ax.set_xlabel(\"Next State\")\n",
    "        ax.set_ylabel(\"Starting State\")\n",
    "        ax.set_title(\"Transition Matrix Heatmap\", pad=20)\n",
    "\n",
    "        plt.tight_layout()\n",
    "        plt.show()"
   ]
  }
 ],
 "metadata": {
  "kernelspec": {
   "display_name": "base",
   "language": "python",
   "name": "python3"
  },
  "language_info": {
   "codemirror_mode": {
    "name": "ipython",
    "version": 3
   },
   "file_extension": ".py",
   "mimetype": "text/x-python",
   "name": "python",
   "nbconvert_exporter": "python",
   "pygments_lexer": "ipython3",
   "version": "3.12.7"
  }
 },
 "nbformat": 4,
 "nbformat_minor": 5
}
